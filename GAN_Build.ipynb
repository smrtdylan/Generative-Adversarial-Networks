{
  "cells": [
    {
      "cell_type": "code",
      "execution_count": null,
      "metadata": {
        "id": "joXgv8NdgX3I"
      },
      "outputs": [],
      "source": [
        "import numpy as np\n",
        "import matplotlib.pyplot as plt\n",
        "import torchvision.transforms as transforms\n",
        "from torch.utils.data import DataLoader\n",
        "import torchvision\n"
      ]
    },
    {
      "cell_type": "code",
      "execution_count": null,
      "metadata": {
        "id": "G-1Q34uN4aW_"
      },
      "outputs": [],
      "source": [
        "import torch"
      ]
    },
    {
      "cell_type": "code",
      "execution_count": null,
      "metadata": {
        "id": "OoV5RW_7iP5O"
      },
      "outputs": [],
      "source": [
        "transform = transforms.Compose([\n",
        "    transforms.Resize((128,128)),\n",
        "    transforms.CenterCrop((64,64))\n",
        "  ])\n",
        "\n",
        "def apply_transform(example):\n",
        "  image = example[\"image\"]\n",
        "  image = image[:1,:,:]\n",
        "  image = image.type(torch.float)\n",
        "  example[\"image\"] = transform(image)\n",
        "  return example\n",
        "  return example"
      ]
    },
    {
      "cell_type": "code",
      "execution_count": null,
      "metadata": {
        "colab": {
          "base_uri": "https://localhost:8080/"
        },
        "id": "Yi9nBlZ62wHs",
        "outputId": "e965e8fa-81d3-42fb-b59c-2b240ff18245"
      },
      "outputs": [
        {
          "output_type": "stream",
          "name": "stdout",
          "text": [
            "Requirement already satisfied: datasets in /usr/local/lib/python3.11/dist-packages (3.2.0)\n",
            "Requirement already satisfied: filelock in /usr/local/lib/python3.11/dist-packages (from datasets) (3.17.0)\n",
            "Requirement already satisfied: numpy>=1.17 in /usr/local/lib/python3.11/dist-packages (from datasets) (1.26.4)\n",
            "Requirement already satisfied: pyarrow>=15.0.0 in /usr/local/lib/python3.11/dist-packages (from datasets) (17.0.0)\n",
            "Requirement already satisfied: dill<0.3.9,>=0.3.0 in /usr/local/lib/python3.11/dist-packages (from datasets) (0.3.8)\n",
            "Requirement already satisfied: pandas in /usr/local/lib/python3.11/dist-packages (from datasets) (2.2.2)\n",
            "Requirement already satisfied: requests>=2.32.2 in /usr/local/lib/python3.11/dist-packages (from datasets) (2.32.3)\n",
            "Requirement already satisfied: tqdm>=4.66.3 in /usr/local/lib/python3.11/dist-packages (from datasets) (4.67.1)\n",
            "Requirement already satisfied: xxhash in /usr/local/lib/python3.11/dist-packages (from datasets) (3.5.0)\n",
            "Requirement already satisfied: multiprocess<0.70.17 in /usr/local/lib/python3.11/dist-packages (from datasets) (0.70.16)\n",
            "Requirement already satisfied: fsspec<=2024.9.0,>=2023.1.0 in /usr/local/lib/python3.11/dist-packages (from fsspec[http]<=2024.9.0,>=2023.1.0->datasets) (2024.9.0)\n",
            "Requirement already satisfied: aiohttp in /usr/local/lib/python3.11/dist-packages (from datasets) (3.11.11)\n",
            "Requirement already satisfied: huggingface-hub>=0.23.0 in /usr/local/lib/python3.11/dist-packages (from datasets) (0.28.1)\n",
            "Requirement already satisfied: packaging in /usr/local/lib/python3.11/dist-packages (from datasets) (24.2)\n",
            "Requirement already satisfied: pyyaml>=5.1 in /usr/local/lib/python3.11/dist-packages (from datasets) (6.0.2)\n",
            "Requirement already satisfied: aiohappyeyeballs>=2.3.0 in /usr/local/lib/python3.11/dist-packages (from aiohttp->datasets) (2.4.4)\n",
            "Requirement already satisfied: aiosignal>=1.1.2 in /usr/local/lib/python3.11/dist-packages (from aiohttp->datasets) (1.3.2)\n",
            "Requirement already satisfied: attrs>=17.3.0 in /usr/local/lib/python3.11/dist-packages (from aiohttp->datasets) (25.1.0)\n",
            "Requirement already satisfied: frozenlist>=1.1.1 in /usr/local/lib/python3.11/dist-packages (from aiohttp->datasets) (1.5.0)\n",
            "Requirement already satisfied: multidict<7.0,>=4.5 in /usr/local/lib/python3.11/dist-packages (from aiohttp->datasets) (6.1.0)\n",
            "Requirement already satisfied: propcache>=0.2.0 in /usr/local/lib/python3.11/dist-packages (from aiohttp->datasets) (0.2.1)\n",
            "Requirement already satisfied: yarl<2.0,>=1.17.0 in /usr/local/lib/python3.11/dist-packages (from aiohttp->datasets) (1.18.3)\n",
            "Requirement already satisfied: typing-extensions>=3.7.4.3 in /usr/local/lib/python3.11/dist-packages (from huggingface-hub>=0.23.0->datasets) (4.12.2)\n",
            "Requirement already satisfied: charset-normalizer<4,>=2 in /usr/local/lib/python3.11/dist-packages (from requests>=2.32.2->datasets) (3.4.1)\n",
            "Requirement already satisfied: idna<4,>=2.5 in /usr/local/lib/python3.11/dist-packages (from requests>=2.32.2->datasets) (3.10)\n",
            "Requirement already satisfied: urllib3<3,>=1.21.1 in /usr/local/lib/python3.11/dist-packages (from requests>=2.32.2->datasets) (2.3.0)\n",
            "Requirement already satisfied: certifi>=2017.4.17 in /usr/local/lib/python3.11/dist-packages (from requests>=2.32.2->datasets) (2025.1.31)\n",
            "Requirement already satisfied: python-dateutil>=2.8.2 in /usr/local/lib/python3.11/dist-packages (from pandas->datasets) (2.8.2)\n",
            "Requirement already satisfied: pytz>=2020.1 in /usr/local/lib/python3.11/dist-packages (from pandas->datasets) (2025.1)\n",
            "Requirement already satisfied: tzdata>=2022.7 in /usr/local/lib/python3.11/dist-packages (from pandas->datasets) (2025.1)\n",
            "Requirement already satisfied: six>=1.5 in /usr/local/lib/python3.11/dist-packages (from python-dateutil>=2.8.2->pandas->datasets) (1.17.0)\n"
          ]
        }
      ],
      "source": [
        "!pip install datasets"
      ]
    },
    {
      "cell_type": "code",
      "execution_count": null,
      "metadata": {
        "id": "2ABxN39d70m1",
        "colab": {
          "base_uri": "https://localhost:8080/"
        },
        "outputId": "887ead64-964b-4f19-98d4-15ffb541da2d"
      },
      "outputs": [
        {
          "output_type": "stream",
          "name": "stderr",
          "text": [
            "/usr/local/lib/python3.11/dist-packages/huggingface_hub/utils/_auth.py:94: UserWarning: \n",
            "The secret `HF_TOKEN` does not exist in your Colab secrets.\n",
            "To authenticate with the Hugging Face Hub, create a token in your settings tab (https://huggingface.co/settings/tokens), set it as secret in your Google Colab and restart your session.\n",
            "You will be able to reuse this secret in all of your notebooks.\n",
            "Please note that authentication is recommended but still optional to access public models or datasets.\n",
            "  warnings.warn(\n"
          ]
        }
      ],
      "source": [
        "from datasets import load_dataset\n",
        "\n",
        "\n",
        "\n",
        "train = load_dataset(\"maurice-fp/stanford-dogs\", split=\"train\")\n",
        "train = train.with_format(\"torch\")\n",
        "train = train.shuffle(seed=42)\n",
        "train = train.select(range(1000))\n",
        "\n",
        "batch_size = 16\n",
        "train = train.map(apply_transform)\n",
        "\n",
        "train_loader = DataLoader(train, batch_size = batch_size, shuffle = True)\n",
        "\n",
        "\n"
      ]
    },
    {
      "cell_type": "code",
      "source": [
        "print(train_loader.batch_size)"
      ],
      "metadata": {
        "colab": {
          "base_uri": "https://localhost:8080/"
        },
        "id": "Tpelj9Oh4XdR",
        "outputId": "0d36e418-7fce-4a07-86dd-2334a0d84c83"
      },
      "execution_count": null,
      "outputs": [
        {
          "output_type": "stream",
          "name": "stdout",
          "text": [
            "16\n"
          ]
        }
      ]
    },
    {
      "cell_type": "code",
      "execution_count": null,
      "metadata": {
        "colab": {
          "base_uri": "https://localhost:8080/",
          "height": 468
        },
        "id": "3po4G3q04ijw",
        "outputId": "9a5af5a3-950d-470e-e957-a3e972c5df68"
      },
      "outputs": [
        {
          "output_type": "stream",
          "name": "stdout",
          "text": [
            "torch.Size([1, 64, 64])\n"
          ]
        },
        {
          "output_type": "execute_result",
          "data": {
            "text/plain": [
              "<matplotlib.image.AxesImage at 0x7d031b49fc90>"
            ]
          },
          "metadata": {},
          "execution_count": 7
        },
        {
          "output_type": "display_data",
          "data": {
            "text/plain": [
              "<Figure size 640x480 with 1 Axes>"
            ],
            "image/png": "[encoded data removed]"
          },
          "metadata": {}
        }
      ],
      "source": [
        "iter_train = iter(train_loader)\n",
        "\n",
        "batch = next(iter_train)\n",
        "\n",
        "image, label = batch[\"image\"][0], batch[\"label\"][0]\n",
        "\n",
        "\n",
        "\n",
        "print(image.shape)\n",
        "\n",
        "np_img = image.numpy()\n",
        "\n",
        "np_img = (np_img-np.min(np_img))/(np.max(np_img)-np.min(np_img)) # Normalizes range to [0..1]\n",
        "# print(classes[label])\n",
        "np_img = np_img.transpose(1,2,0)\n",
        "plt.imshow(np_img)\n",
        "\n",
        "\n"
      ]
    },
    {
      "cell_type": "code",
      "execution_count": null,
      "metadata": {
        "id": "EVk81x7Lgqk1"
      },
      "outputs": [],
      "source": [
        "latent_dim = 128\n",
        "\n",
        "import torch.nn as nn\n",
        "import torch.nn.functional as F\n",
        "\n",
        "class Generator(nn.Module):\n",
        "  #goal: try and convert the image so that it outputs in the size of a [1,64,64] image\n",
        "  def __init__(self):\n",
        "    super(Generator, self).__init__()\n",
        "    self.model = nn.Sequential(\n",
        "      nn.Linear(in_features = latent_dim, out_features = 8*16*16),\n",
        "      nn.ReLU(),\n",
        "      nn.BatchNorm1d(8*16*16),\n",
        "\n",
        "      nn.Unflatten(dim = 1, unflattened_size = (8,16,16)),\n",
        "\n",
        "      # 1st Block\n",
        "      nn.ConvTranspose2d(in_channels = 8, out_channels = 16, kernel_size = 2, stride = 2),\n",
        "      nn.ReLU(),\n",
        "      nn.BatchNorm2d(16),\n",
        "\n",
        "      # 2nd Block\n",
        "      nn.ConvTranspose2d(in_channels = 16, out_channels = 32, kernel_size = 2, stride = 2),\n",
        "      nn.ReLU(),\n",
        "      nn.BatchNorm2d(32),\n",
        "\n",
        "      # 3rd Block\n",
        "      nn.ConvTranspose2d(in_channels = 32, out_channels = 64, kernel_size = 2, stride = 2),\n",
        "      nn.ReLU(),\n",
        "      nn.BatchNorm2d(64),\n",
        "\n",
        "      # 4th Block\n",
        "      nn.Conv2d(in_channels = 64, out_channels = 1, kernel_size = 4, stride = 2, padding = 1),\n",
        "      nn.ReLU(),\n",
        "      nn.BatchNorm2d(1)\n",
        "\n",
        "\n",
        "\n",
        "    )\n",
        "  def forward (self, x):\n",
        "    img = torch.tanh(self.model(x))\n",
        "\n",
        "\n",
        "\n",
        "    return img\n"
      ]
    },
    {
      "cell_type": "code",
      "execution_count": null,
      "metadata": {
        "id": "bjwZrXrTN8BE"
      },
      "outputs": [],
      "source": [
        "G = Generator().to('cpu')\n"
      ]
    },
    {
      "cell_type": "code",
      "execution_count": null,
      "metadata": {
        "id": "ihq4rx2b_a-E",
        "colab": {
          "base_uri": "https://localhost:8080/",
          "height": 468
        },
        "outputId": "47ce5a84-6005-44e3-b892-5e48d94da6ce"
      },
      "outputs": [
        {
          "output_type": "stream",
          "name": "stdout",
          "text": [
            "torch.Size([16, 1, 64, 64])\n"
          ]
        },
        {
          "output_type": "execute_result",
          "data": {
            "text/plain": [
              "<matplotlib.image.AxesImage at 0x7d031b2652d0>"
            ]
          },
          "metadata": {},
          "execution_count": 10
        },
        {
          "output_type": "display_data",
          "data": {
            "text/plain": [
              "<Figure size 640x480 with 1 Axes>"
            ],
            "image/png": "[encoded data removed]"
          },
          "metadata": {}
        }
      ],
      "source": [
        "z = torch.randn(16,latent_dim)\n",
        "fake = G(z)\n",
        "\n",
        "print(fake.shape)\n",
        "\n",
        "\n",
        "fake_img = fake[0].detach().numpy()\n",
        "\n",
        "fake_img = fake_img.transpose(1,2,0)\n",
        "plt.imshow(fake_img)"
      ]
    },
    {
      "cell_type": "code",
      "execution_count": null,
      "metadata": {
        "id": "nQN_lsgNQhIW"
      },
      "outputs": [],
      "source": [
        "class Discriminator(nn.Module):\n",
        "  def __init__(self):\n",
        "    super(Discriminator, self).__init__()\n",
        "\n",
        "    self.model = nn.Sequential(\n",
        "      nn.Conv2d(in_channels = 1, out_channels = 32, kernel_size = 2, stride = 2),\n",
        "      nn.ReLU(),\n",
        "\n",
        "      nn.Conv2d(in_channels=32, out_channels=64, kernel_size=2, stride = 2),\n",
        "      nn.ReLU(),\n",
        "\n",
        "      nn.Flatten(),\n",
        "\n",
        "      nn.Linear(in_features = 16384, out_features = 500),\n",
        "      nn.ReLU(),\n",
        "      nn.Dropout(p=0.3),\n",
        "\n",
        "      nn.Linear(in_features = 500, out_features = 1),\n",
        "      nn.Sigmoid()\n",
        "\n",
        "\n",
        "    )\n",
        "\n",
        "\n",
        "  def forward(self, x):\n",
        "    x = self.model(x)\n",
        "\n",
        "    return x\n"
      ]
    },
    {
      "cell_type": "code",
      "execution_count": null,
      "metadata": {
        "colab": {
          "base_uri": "https://localhost:8080/"
        },
        "id": "b1BOXf6O_0qT",
        "outputId": "1259b293-2973-42a7-dbb7-050a6a07b25b"
      },
      "outputs": [
        {
          "output_type": "stream",
          "name": "stdout",
          "text": [
            "torch.Size([16, 1])\n",
            "tensor([0.5161], grad_fn=<SelectBackward0>)\n",
            "tensor(0)\n",
            "inputs shape: torch.Size([16, 1, 64, 64])\n",
            "labels shape: torch.Size([16])\n",
            "after network: torch.Size([16, 1])\n",
            "\n",
            "\n",
            "tensor([0.9696], grad_fn=<SelectBackward0>)\n",
            "tensor(11)\n",
            "tensor([[0.9000],\n",
            "        [0.9000],\n",
            "        [0.9000],\n",
            "        [0.9000],\n",
            "        [0.9000],\n",
            "        [0.9000],\n",
            "        [0.9000],\n",
            "        [0.9000],\n",
            "        [0.9000],\n",
            "        [0.9000],\n",
            "        [0.9000],\n",
            "        [0.9000],\n",
            "        [0.9000],\n",
            "        [0.9000],\n",
            "        [0.9000],\n",
            "        [0.9000]])\n"
          ]
        }
      ],
      "source": [
        "D = Discriminator().to('cpu')\n",
        "\n",
        "\n",
        "\n",
        "print(D(fake).shape)\n",
        "\n",
        "\n",
        "\n",
        "\n",
        "fake_probs = torch.argmax(D(fake))\n",
        "print(D(fake)[fake_probs])\n",
        "print(fake_probs)\n",
        "\n",
        "\n",
        "for batch in train_loader:\n",
        "\n",
        "  images, labels = batch[\"image\"], batch[\"label\"]\n",
        "  print(f'inputs shape: {images.shape}')\n",
        "  print(f'labels shape: {labels.shape}')\n",
        "  print(f'after network: {D(images).shape}')\n",
        "\n",
        "  print()\n",
        "  print()\n",
        "\n",
        "  real_probs = torch.argmax(D(images))\n",
        "  print(D(images)[real_probs])\n",
        "  print(real_probs)\n",
        "\n",
        "  real_labels = torch.full_like(D(images), 0.9)\n",
        "  print(real_labels)\n",
        "\n",
        "  break"
      ]
    },
    {
      "cell_type": "code",
      "execution_count": null,
      "metadata": {
        "colab": {
          "base_uri": "https://localhost:8080/"
        },
        "id": "V-wrDMMzGbA9",
        "outputId": "a09f63fd-16c4-4a03-8b75-161a0ff470a2"
      },
      "outputs": [
        {
          "output_type": "stream",
          "name": "stdout",
          "text": [
            "Discriminator parameters: 8,201,417\n",
            "Generator parameters: 8,481,820\n"
          ]
        }
      ],
      "source": [
        "num_params = 0\n",
        "\n",
        "# Discriminator Parameters\n",
        "for x in D.parameters():\n",
        "  num_params += len(torch.flatten(x))\n",
        "\n",
        "print(f'Discriminator parameters: {num_params:,}')\n",
        "\n",
        "for x in G.parameters():\n",
        "  num_params += len(torch.flatten(x))\n",
        "\n",
        "print(f'Generator parameters: {num_params:,}')\n",
        "\n",
        "\n"
      ]
    },
    {
      "cell_type": "code",
      "execution_count": null,
      "metadata": {
        "id": "9Fntn8llAJPj"
      },
      "outputs": [],
      "source": [
        "import torch.optim as optim\n",
        "\n",
        "criterion = nn.BCELoss()\n",
        "D_optimizer = optim.Adam(D.parameters(), lr=0.0001)\n",
        "G_optimizer = optim.Adam(G.parameters(), lr=0.00015)\n",
        "\n",
        "device = torch.device(\"cuda\" if torch.cuda.is_available() else \"cpu\")"
      ]
    },
    {
      "cell_type": "code",
      "source": [
        "print(len(train_loader))"
      ],
      "metadata": {
        "colab": {
          "base_uri": "https://localhost:8080/"
        },
        "id": "aYRcZkJHrAgi",
        "outputId": "f37f17fd-8d8d-4511-f3fe-a415a94917eb"
      },
      "execution_count": null,
      "outputs": [
        {
          "output_type": "stream",
          "name": "stdout",
          "text": [
            "63\n"
          ]
        }
      ]
    },
    {
      "cell_type": "code",
      "execution_count": null,
      "metadata": {
        "id": "I2XqkHIAce5P",
        "colab": {
          "base_uri": "https://localhost:8080/",
          "height": 1000
        },
        "outputId": "ef8a4ef6-7ed4-4f7c-85f5-1429fa34e563"
      },
      "outputs": [
        {
          "output_type": "stream",
          "name": "stdout",
          "text": [
            "Epoch 1\n",
            "Batch: 4   D_Loss: 4.738   G_Loss: 0.601\n",
            "Batch: 8   D_Loss: 5.758   G_Loss: 0.685\n",
            "Batch: 12   D_Loss: 5.603   G_Loss: 0.875\n",
            "Batch: 16   D_Loss: 5.456   G_Loss: 1.122\n",
            "Batch: 20   D_Loss: 5.009   G_Loss: 1.399\n",
            "Batch: 24   D_Loss: 4.103   G_Loss: 1.434\n",
            "Batch: 28   D_Loss: 5.406   G_Loss: 1.099\n",
            "Batch: 32   D_Loss: 5.508   G_Loss: 0.913\n",
            "Batch: 36   D_Loss: 5.547   G_Loss: 0.880\n",
            "Batch: 40   D_Loss: 5.512   G_Loss: 0.964\n",
            "Batch: 44   D_Loss: 5.433   G_Loss: 1.138\n",
            "Batch: 48   D_Loss: 5.353   G_Loss: 1.375\n",
            "Batch: 52   D_Loss: 5.295   G_Loss: 1.601\n",
            "Batch: 56   D_Loss: 5.260   G_Loss: 1.799\n",
            "Batch: 60   D_Loss: 5.238   G_Loss: 1.962\n",
            "Epoch 2\n",
            "Batch: 4   D_Loss: 5.224   G_Loss: 2.098\n",
            "Batch: 8   D_Loss: 5.219   G_Loss: 2.163\n",
            "Batch: 12   D_Loss: 5.215   G_Loss: 2.227\n",
            "Batch: 16   D_Loss: 5.212   G_Loss: 2.290\n",
            "Batch: 20   D_Loss: 5.209   G_Loss: 2.354\n",
            "Batch: 24   D_Loss: 5.207   G_Loss: 2.416\n",
            "Batch: 28   D_Loss: 5.204   G_Loss: 2.482\n",
            "Batch: 32   D_Loss: 5.203   G_Loss: 2.539\n",
            "Batch: 36   D_Loss: 5.201   G_Loss: 2.599\n",
            "Batch: 40   D_Loss: 5.201   G_Loss: 2.646\n",
            "Batch: 44   D_Loss: 5.200   G_Loss: 2.675\n",
            "Batch: 48   D_Loss: 5.200   G_Loss: 2.699\n",
            "Batch: 52   D_Loss: 5.199   G_Loss: 2.710\n",
            "Batch: 56   D_Loss: 5.199   G_Loss: 2.722\n",
            "Batch: 60   D_Loss: 5.199   G_Loss: 2.733\n",
            "Epoch 3\n",
            "Batch: 4   D_Loss: 5.199   G_Loss: 2.754\n",
            "Batch: 8   D_Loss: 5.199   G_Loss: 2.765\n",
            "Batch: 12   D_Loss: 5.199   G_Loss: 2.786\n",
            "Batch: 16   D_Loss: 5.199   G_Loss: 2.806\n",
            "Batch: 20   D_Loss: 5.199   G_Loss: 2.817\n",
            "Batch: 24   D_Loss: 5.199   G_Loss: 2.833\n",
            "Batch: 28   D_Loss: 5.199   G_Loss: 2.837\n",
            "Batch: 32   D_Loss: 5.199   G_Loss: 2.840\n",
            "Batch: 36   D_Loss: 5.199   G_Loss: 2.839\n",
            "Batch: 40   D_Loss: 5.199   G_Loss: 2.834\n",
            "Batch: 44   D_Loss: 5.199   G_Loss: 2.826\n",
            "Batch: 48   D_Loss: 5.199   G_Loss: 2.833\n",
            "Batch: 52   D_Loss: 5.199   G_Loss: 2.838\n",
            "Batch: 56   D_Loss: 5.199   G_Loss: 2.843\n",
            "Batch: 60   D_Loss: 5.199   G_Loss: 2.849\n",
            "Epoch 4\n",
            "Batch: 4   D_Loss: 5.199   G_Loss: 2.855\n",
            "Batch: 8   D_Loss: 5.199   G_Loss: 2.861\n",
            "Batch: 12   D_Loss: 5.199   G_Loss: 2.852\n",
            "Batch: 16   D_Loss: 5.199   G_Loss: 2.850\n",
            "Batch: 20   D_Loss: 5.199   G_Loss: 2.847\n",
            "Batch: 24   D_Loss: 5.199   G_Loss: 2.849\n",
            "Batch: 28   D_Loss: 5.199   G_Loss: 2.852\n",
            "Batch: 32   D_Loss: 5.199   G_Loss: 2.856\n",
            "Batch: 36   D_Loss: 5.199   G_Loss: 2.861\n",
            "Batch: 40   D_Loss: 5.199   G_Loss: 2.858\n",
            "Batch: 44   D_Loss: 5.199   G_Loss: 2.855\n",
            "Batch: 48   D_Loss: 5.199   G_Loss: 2.855\n",
            "Batch: 52   D_Loss: 5.199   G_Loss: 2.852\n",
            "Batch: 56   D_Loss: 5.199   G_Loss: 2.855\n",
            "Batch: 60   D_Loss: 5.199   G_Loss: 2.854\n",
            "Epoch 5\n",
            "Batch: 4   D_Loss: 5.199   G_Loss: 2.856\n",
            "Batch: 8   D_Loss: 5.199   G_Loss: 2.855\n",
            "Batch: 12   D_Loss: 5.199   G_Loss: 2.858\n",
            "Batch: 16   D_Loss: 5.199   G_Loss: 2.856\n",
            "Batch: 20   D_Loss: 5.199   G_Loss: 2.856\n",
            "Batch: 24   D_Loss: 5.199   G_Loss: 2.851\n",
            "Batch: 28   D_Loss: 5.199   G_Loss: 2.851\n",
            "Batch: 32   D_Loss: 5.199   G_Loss: 2.847\n",
            "Batch: 36   D_Loss: 5.199   G_Loss: 2.847\n",
            "Batch: 40   D_Loss: 5.199   G_Loss: 2.849\n",
            "Batch: 44   D_Loss: 5.199   G_Loss: 2.847\n",
            "Batch: 48   D_Loss: 5.199   G_Loss: 2.852\n",
            "Batch: 52   D_Loss: 5.199   G_Loss: 2.848\n",
            "Batch: 56   D_Loss: 5.199   G_Loss: 2.851\n",
            "Batch: 60   D_Loss: 5.199   G_Loss: 2.851\n",
            "Epoch 6\n",
            "Batch: 4   D_Loss: 5.199   G_Loss: 2.848\n",
            "Batch: 8   D_Loss: 5.199   G_Loss: 2.848\n",
            "Batch: 12   D_Loss: 5.199   G_Loss: 2.849\n",
            "Batch: 16   D_Loss: 5.199   G_Loss: 2.848\n",
            "Batch: 20   D_Loss: 5.199   G_Loss: 2.846\n",
            "Batch: 24   D_Loss: 5.199   G_Loss: 2.848\n",
            "Batch: 28   D_Loss: 5.199   G_Loss: 2.845\n",
            "Batch: 32   D_Loss: 5.199   G_Loss: 2.846\n",
            "Batch: 36   D_Loss: 5.199   G_Loss: 2.849\n",
            "Batch: 40   D_Loss: 5.199   G_Loss: 2.846\n",
            "Batch: 44   D_Loss: 5.199   G_Loss: 2.842\n",
            "Batch: 48   D_Loss: 5.199   G_Loss: 2.836\n",
            "Batch: 52   D_Loss: 5.199   G_Loss: 2.840\n",
            "Batch: 56   D_Loss: 5.199   G_Loss: 2.840\n"
          ]
        },
        {
          "output_type": "error",
          "ename": "KeyboardInterrupt",
          "evalue": "",
          "traceback": [
            "\u001b[0;31m---------------------------------------------------------------------------\u001b[0m",
            "\u001b[0;31mKeyboardInterrupt\u001b[0m                         Traceback (most recent call last)",
            "\u001b[0;32m<ipython-input-16-55f9ac6fb00e>\u001b[0m in \u001b[0;36m<cell line: 0>\u001b[0;34m()\u001b[0m\n\u001b[1;32m     46\u001b[0m       \u001b[0mG_optimizer\u001b[0m\u001b[0;34m.\u001b[0m\u001b[0mzero_grad\u001b[0m\u001b[0;34m(\u001b[0m\u001b[0;34m)\u001b[0m\u001b[0;34m\u001b[0m\u001b[0;34m\u001b[0m\u001b[0m\n\u001b[1;32m     47\u001b[0m       \u001b[0mfake_img\u001b[0m \u001b[0;34m=\u001b[0m \u001b[0mtorch\u001b[0m\u001b[0;34m.\u001b[0m\u001b[0mrandn\u001b[0m\u001b[0;34m(\u001b[0m\u001b[0;36m4\u001b[0m\u001b[0;34m,\u001b[0m \u001b[0mlatent_dim\u001b[0m\u001b[0;34m,\u001b[0m \u001b[0mdevice\u001b[0m\u001b[0;34m=\u001b[0m\u001b[0mdevice\u001b[0m\u001b[0;34m)\u001b[0m\u001b[0;34m\u001b[0m\u001b[0;34m\u001b[0m\u001b[0m\n\u001b[0;32m---> 48\u001b[0;31m       \u001b[0mfake_input\u001b[0m \u001b[0;34m=\u001b[0m \u001b[0mG\u001b[0m\u001b[0;34m(\u001b[0m\u001b[0mfake_img\u001b[0m\u001b[0;34m)\u001b[0m\u001b[0;34m\u001b[0m\u001b[0;34m\u001b[0m\u001b[0m\n\u001b[0m\u001b[1;32m     49\u001b[0m \u001b[0;34m\u001b[0m\u001b[0m\n\u001b[1;32m     50\u001b[0m       \u001b[0moutput\u001b[0m \u001b[0;34m=\u001b[0m \u001b[0mD\u001b[0m\u001b[0;34m(\u001b[0m\u001b[0mfake_input\u001b[0m\u001b[0;34m)\u001b[0m\u001b[0;34m\u001b[0m\u001b[0;34m\u001b[0m\u001b[0m\n",
            "\u001b[0;32m/usr/local/lib/python3.11/dist-packages/torch/nn/modules/module.py\u001b[0m in \u001b[0;36m_wrapped_call_impl\u001b[0;34m(self, *args, **kwargs)\u001b[0m\n\u001b[1;32m   1734\u001b[0m             \u001b[0;32mreturn\u001b[0m \u001b[0mself\u001b[0m\u001b[0;34m.\u001b[0m\u001b[0m_compiled_call_impl\u001b[0m\u001b[0;34m(\u001b[0m\u001b[0;34m*\u001b[0m\u001b[0margs\u001b[0m\u001b[0;34m,\u001b[0m \u001b[0;34m**\u001b[0m\u001b[0mkwargs\u001b[0m\u001b[0;34m)\u001b[0m  \u001b[0;31m# type: ignore[misc]\u001b[0m\u001b[0;34m\u001b[0m\u001b[0;34m\u001b[0m\u001b[0m\n\u001b[1;32m   1735\u001b[0m         \u001b[0;32melse\u001b[0m\u001b[0;34m:\u001b[0m\u001b[0;34m\u001b[0m\u001b[0;34m\u001b[0m\u001b[0m\n\u001b[0;32m-> 1736\u001b[0;31m             \u001b[0;32mreturn\u001b[0m \u001b[0mself\u001b[0m\u001b[0;34m.\u001b[0m\u001b[0m_call_impl\u001b[0m\u001b[0;34m(\u001b[0m\u001b[0;34m*\u001b[0m\u001b[0margs\u001b[0m\u001b[0;34m,\u001b[0m \u001b[0;34m**\u001b[0m\u001b[0mkwargs\u001b[0m\u001b[0;34m)\u001b[0m\u001b[0;34m\u001b[0m\u001b[0;34m\u001b[0m\u001b[0m\n\u001b[0m\u001b[1;32m   1737\u001b[0m \u001b[0;34m\u001b[0m\u001b[0m\n\u001b[1;32m   1738\u001b[0m     \u001b[0;31m# torchrec tests the code consistency with the following code\u001b[0m\u001b[0;34m\u001b[0m\u001b[0;34m\u001b[0m\u001b[0m\n",
            "\u001b[0;32m/usr/local/lib/python3.11/dist-packages/torch/nn/modules/module.py\u001b[0m in \u001b[0;36m_call_impl\u001b[0;34m(self, *args, **kwargs)\u001b[0m\n\u001b[1;32m   1745\u001b[0m                 \u001b[0;32mor\u001b[0m \u001b[0m_global_backward_pre_hooks\u001b[0m \u001b[0;32mor\u001b[0m \u001b[0m_global_backward_hooks\u001b[0m\u001b[0;34m\u001b[0m\u001b[0;34m\u001b[0m\u001b[0m\n\u001b[1;32m   1746\u001b[0m                 or _global_forward_hooks or _global_forward_pre_hooks):\n\u001b[0;32m-> 1747\u001b[0;31m             \u001b[0;32mreturn\u001b[0m \u001b[0mforward_call\u001b[0m\u001b[0;34m(\u001b[0m\u001b[0;34m*\u001b[0m\u001b[0margs\u001b[0m\u001b[0;34m,\u001b[0m \u001b[0;34m**\u001b[0m\u001b[0mkwargs\u001b[0m\u001b[0;34m)\u001b[0m\u001b[0;34m\u001b[0m\u001b[0;34m\u001b[0m\u001b[0m\n\u001b[0m\u001b[1;32m   1748\u001b[0m \u001b[0;34m\u001b[0m\u001b[0m\n\u001b[1;32m   1749\u001b[0m         \u001b[0mresult\u001b[0m \u001b[0;34m=\u001b[0m \u001b[0;32mNone\u001b[0m\u001b[0;34m\u001b[0m\u001b[0;34m\u001b[0m\u001b[0m\n",
            "\u001b[0;32m<ipython-input-8-528ede6d59c9>\u001b[0m in \u001b[0;36mforward\u001b[0;34m(self, x)\u001b[0m\n\u001b[1;32m     39\u001b[0m     )\n\u001b[1;32m     40\u001b[0m   \u001b[0;32mdef\u001b[0m \u001b[0mforward\u001b[0m \u001b[0;34m(\u001b[0m\u001b[0mself\u001b[0m\u001b[0;34m,\u001b[0m \u001b[0mx\u001b[0m\u001b[0;34m)\u001b[0m\u001b[0;34m:\u001b[0m\u001b[0;34m\u001b[0m\u001b[0;34m\u001b[0m\u001b[0m\n\u001b[0;32m---> 41\u001b[0;31m     \u001b[0mimg\u001b[0m \u001b[0;34m=\u001b[0m \u001b[0mtorch\u001b[0m\u001b[0;34m.\u001b[0m\u001b[0mtanh\u001b[0m\u001b[0;34m(\u001b[0m\u001b[0mself\u001b[0m\u001b[0;34m.\u001b[0m\u001b[0mmodel\u001b[0m\u001b[0;34m(\u001b[0m\u001b[0mx\u001b[0m\u001b[0;34m)\u001b[0m\u001b[0;34m)\u001b[0m\u001b[0;34m\u001b[0m\u001b[0;34m\u001b[0m\u001b[0m\n\u001b[0m\u001b[1;32m     42\u001b[0m \u001b[0;34m\u001b[0m\u001b[0m\n\u001b[1;32m     43\u001b[0m \u001b[0;34m\u001b[0m\u001b[0m\n",
            "\u001b[0;32m/usr/local/lib/python3.11/dist-packages/torch/nn/modules/module.py\u001b[0m in \u001b[0;36m_wrapped_call_impl\u001b[0;34m(self, *args, **kwargs)\u001b[0m\n\u001b[1;32m   1734\u001b[0m             \u001b[0;32mreturn\u001b[0m \u001b[0mself\u001b[0m\u001b[0;34m.\u001b[0m\u001b[0m_compiled_call_impl\u001b[0m\u001b[0;34m(\u001b[0m\u001b[0;34m*\u001b[0m\u001b[0margs\u001b[0m\u001b[0;34m,\u001b[0m \u001b[0;34m**\u001b[0m\u001b[0mkwargs\u001b[0m\u001b[0;34m)\u001b[0m  \u001b[0;31m# type: ignore[misc]\u001b[0m\u001b[0;34m\u001b[0m\u001b[0;34m\u001b[0m\u001b[0m\n\u001b[1;32m   1735\u001b[0m         \u001b[0;32melse\u001b[0m\u001b[0;34m:\u001b[0m\u001b[0;34m\u001b[0m\u001b[0;34m\u001b[0m\u001b[0m\n\u001b[0;32m-> 1736\u001b[0;31m             \u001b[0;32mreturn\u001b[0m \u001b[0mself\u001b[0m\u001b[0;34m.\u001b[0m\u001b[0m_call_impl\u001b[0m\u001b[0;34m(\u001b[0m\u001b[0;34m*\u001b[0m\u001b[0margs\u001b[0m\u001b[0;34m,\u001b[0m \u001b[0;34m**\u001b[0m\u001b[0mkwargs\u001b[0m\u001b[0;34m)\u001b[0m\u001b[0;34m\u001b[0m\u001b[0;34m\u001b[0m\u001b[0m\n\u001b[0m\u001b[1;32m   1737\u001b[0m \u001b[0;34m\u001b[0m\u001b[0m\n\u001b[1;32m   1738\u001b[0m     \u001b[0;31m# torchrec tests the code consistency with the following code\u001b[0m\u001b[0;34m\u001b[0m\u001b[0;34m\u001b[0m\u001b[0m\n",
            "\u001b[0;32m/usr/local/lib/python3.11/dist-packages/torch/nn/modules/module.py\u001b[0m in \u001b[0;36m_call_impl\u001b[0;34m(self, *args, **kwargs)\u001b[0m\n\u001b[1;32m   1745\u001b[0m                 \u001b[0;32mor\u001b[0m \u001b[0m_global_backward_pre_hooks\u001b[0m \u001b[0;32mor\u001b[0m \u001b[0m_global_backward_hooks\u001b[0m\u001b[0;34m\u001b[0m\u001b[0;34m\u001b[0m\u001b[0m\n\u001b[1;32m   1746\u001b[0m                 or _global_forward_hooks or _global_forward_pre_hooks):\n\u001b[0;32m-> 1747\u001b[0;31m             \u001b[0;32mreturn\u001b[0m \u001b[0mforward_call\u001b[0m\u001b[0;34m(\u001b[0m\u001b[0;34m*\u001b[0m\u001b[0margs\u001b[0m\u001b[0;34m,\u001b[0m \u001b[0;34m**\u001b[0m\u001b[0mkwargs\u001b[0m\u001b[0;34m)\u001b[0m\u001b[0;34m\u001b[0m\u001b[0;34m\u001b[0m\u001b[0m\n\u001b[0m\u001b[1;32m   1748\u001b[0m \u001b[0;34m\u001b[0m\u001b[0m\n\u001b[1;32m   1749\u001b[0m         \u001b[0mresult\u001b[0m \u001b[0;34m=\u001b[0m \u001b[0;32mNone\u001b[0m\u001b[0;34m\u001b[0m\u001b[0;34m\u001b[0m\u001b[0m\n",
            "\u001b[0;32m/usr/local/lib/python3.11/dist-packages/torch/nn/modules/container.py\u001b[0m in \u001b[0;36mforward\u001b[0;34m(self, input)\u001b[0m\n\u001b[1;32m    248\u001b[0m     \u001b[0;32mdef\u001b[0m \u001b[0mforward\u001b[0m\u001b[0;34m(\u001b[0m\u001b[0mself\u001b[0m\u001b[0;34m,\u001b[0m \u001b[0minput\u001b[0m\u001b[0;34m)\u001b[0m\u001b[0;34m:\u001b[0m\u001b[0;34m\u001b[0m\u001b[0;34m\u001b[0m\u001b[0m\n\u001b[1;32m    249\u001b[0m         \u001b[0;32mfor\u001b[0m \u001b[0mmodule\u001b[0m \u001b[0;32min\u001b[0m \u001b[0mself\u001b[0m\u001b[0;34m:\u001b[0m\u001b[0;34m\u001b[0m\u001b[0;34m\u001b[0m\u001b[0m\n\u001b[0;32m--> 250\u001b[0;31m             \u001b[0minput\u001b[0m \u001b[0;34m=\u001b[0m \u001b[0mmodule\u001b[0m\u001b[0;34m(\u001b[0m\u001b[0minput\u001b[0m\u001b[0;34m)\u001b[0m\u001b[0;34m\u001b[0m\u001b[0;34m\u001b[0m\u001b[0m\n\u001b[0m\u001b[1;32m    251\u001b[0m         \u001b[0;32mreturn\u001b[0m \u001b[0minput\u001b[0m\u001b[0;34m\u001b[0m\u001b[0;34m\u001b[0m\u001b[0m\n\u001b[1;32m    252\u001b[0m \u001b[0;34m\u001b[0m\u001b[0m\n",
            "\u001b[0;32m/usr/local/lib/python3.11/dist-packages/torch/nn/modules/module.py\u001b[0m in \u001b[0;36m_wrapped_call_impl\u001b[0;34m(self, *args, **kwargs)\u001b[0m\n\u001b[1;32m   1734\u001b[0m             \u001b[0;32mreturn\u001b[0m \u001b[0mself\u001b[0m\u001b[0;34m.\u001b[0m\u001b[0m_compiled_call_impl\u001b[0m\u001b[0;34m(\u001b[0m\u001b[0;34m*\u001b[0m\u001b[0margs\u001b[0m\u001b[0;34m,\u001b[0m \u001b[0;34m**\u001b[0m\u001b[0mkwargs\u001b[0m\u001b[0;34m)\u001b[0m  \u001b[0;31m# type: ignore[misc]\u001b[0m\u001b[0;34m\u001b[0m\u001b[0;34m\u001b[0m\u001b[0m\n\u001b[1;32m   1735\u001b[0m         \u001b[0;32melse\u001b[0m\u001b[0;34m:\u001b[0m\u001b[0;34m\u001b[0m\u001b[0;34m\u001b[0m\u001b[0m\n\u001b[0;32m-> 1736\u001b[0;31m             \u001b[0;32mreturn\u001b[0m \u001b[0mself\u001b[0m\u001b[0;34m.\u001b[0m\u001b[0m_call_impl\u001b[0m\u001b[0;34m(\u001b[0m\u001b[0;34m*\u001b[0m\u001b[0margs\u001b[0m\u001b[0;34m,\u001b[0m \u001b[0;34m**\u001b[0m\u001b[0mkwargs\u001b[0m\u001b[0;34m)\u001b[0m\u001b[0;34m\u001b[0m\u001b[0;34m\u001b[0m\u001b[0m\n\u001b[0m\u001b[1;32m   1737\u001b[0m \u001b[0;34m\u001b[0m\u001b[0m\n\u001b[1;32m   1738\u001b[0m     \u001b[0;31m# torchrec tests the code consistency with the following code\u001b[0m\u001b[0;34m\u001b[0m\u001b[0;34m\u001b[0m\u001b[0m\n",
            "\u001b[0;32m/usr/local/lib/python3.11/dist-packages/torch/nn/modules/module.py\u001b[0m in \u001b[0;36m_call_impl\u001b[0;34m(self, *args, **kwargs)\u001b[0m\n\u001b[1;32m   1745\u001b[0m                 \u001b[0;32mor\u001b[0m \u001b[0m_global_backward_pre_hooks\u001b[0m \u001b[0;32mor\u001b[0m \u001b[0m_global_backward_hooks\u001b[0m\u001b[0;34m\u001b[0m\u001b[0;34m\u001b[0m\u001b[0m\n\u001b[1;32m   1746\u001b[0m                 or _global_forward_hooks or _global_forward_pre_hooks):\n\u001b[0;32m-> 1747\u001b[0;31m             \u001b[0;32mreturn\u001b[0m \u001b[0mforward_call\u001b[0m\u001b[0;34m(\u001b[0m\u001b[0;34m*\u001b[0m\u001b[0margs\u001b[0m\u001b[0;34m,\u001b[0m \u001b[0;34m**\u001b[0m\u001b[0mkwargs\u001b[0m\u001b[0;34m)\u001b[0m\u001b[0;34m\u001b[0m\u001b[0;34m\u001b[0m\u001b[0m\n\u001b[0m\u001b[1;32m   1748\u001b[0m \u001b[0;34m\u001b[0m\u001b[0m\n\u001b[1;32m   1749\u001b[0m         \u001b[0mresult\u001b[0m \u001b[0;34m=\u001b[0m \u001b[0;32mNone\u001b[0m\u001b[0;34m\u001b[0m\u001b[0;34m\u001b[0m\u001b[0m\n",
            "\u001b[0;32m/usr/local/lib/python3.11/dist-packages/torch/nn/modules/conv.py\u001b[0m in \u001b[0;36mforward\u001b[0;34m(self, input, output_size)\u001b[0m\n\u001b[1;32m   1160\u001b[0m         )\n\u001b[1;32m   1161\u001b[0m \u001b[0;34m\u001b[0m\u001b[0m\n\u001b[0;32m-> 1162\u001b[0;31m         return F.conv_transpose2d(\n\u001b[0m\u001b[1;32m   1163\u001b[0m             \u001b[0minput\u001b[0m\u001b[0;34m,\u001b[0m\u001b[0;34m\u001b[0m\u001b[0;34m\u001b[0m\u001b[0m\n\u001b[1;32m   1164\u001b[0m             \u001b[0mself\u001b[0m\u001b[0;34m.\u001b[0m\u001b[0mweight\u001b[0m\u001b[0;34m,\u001b[0m\u001b[0;34m\u001b[0m\u001b[0;34m\u001b[0m\u001b[0m\n",
            "\u001b[0;31mKeyboardInterrupt\u001b[0m: "
          ]
        }
      ],
      "source": [
        "epochs = 25\n",
        "\n",
        "for epoch in range(epochs):\n",
        "  print(f'Epoch {epoch+1}')\n",
        "\n",
        "  G.train(True)\n",
        "  D.train(True)\n",
        "  DRunning_loss = 0.0\n",
        "  GRunning_loss = 0.0\n",
        "\n",
        "  for index, batch in enumerate(train_loader):\n",
        "    real_img = batch[\"image\"].to(device)\n",
        "\n",
        "\n",
        "    ### train discriminator ###\n",
        "    D_optimizer.zero_grad()\n",
        "\n",
        "\n",
        "\n",
        "    # fake inputs\n",
        "    fake_img = torch.randn(16,latent_dim, device = device)\n",
        "    fake_input = G(fake_img)\n",
        "    disc_fake = D(fake_input)\n",
        "\n",
        "    fake_labels = torch.full_like(disc_fake, 0.05)\n",
        "    dloss_fake = criterion(disc_fake, fake_labels) # 0 refers to fake\n",
        "    dloss_fake.backward()\n",
        "\n",
        "\n",
        "    # real inputs\n",
        "    real_input = D(real_img)\n",
        "\n",
        "    real_labels = torch.full_like(real_input, 0.95)\n",
        "    dloss_real = criterion(real_input, real_labels)\n",
        "    dloss_real.backward()\n",
        "\n",
        "\n",
        "    # computer both losses\n",
        "    Dtotal_err = dloss_real + dloss_fake\n",
        "    DRunning_loss += Dtotal_err\n",
        "    # Update D\n",
        "    D_optimizer.step()\n",
        "\n",
        "    for i in range(2):\n",
        "      ### train generator ###\n",
        "      G_optimizer.zero_grad()\n",
        "      fake_img = torch.randn(4, latent_dim, device=device)\n",
        "      fake_input = G(fake_img)\n",
        "\n",
        "      output = D(fake_input)\n",
        "      real_labels = torch.full_like(output, 0.95)\n",
        "      G_err = criterion(output, real_labels)\n",
        "      G_err.backward()\n",
        "\n",
        "      GRunning_loss += G_err\n",
        "\n",
        "      #Update G\n",
        "      G_optimizer.step()\n",
        "\n",
        "\n",
        "\n",
        "    if (index % 4 == 3):\n",
        "      print(f'Batch: {index+1}   D_Loss: {DRunning_loss/4:.3f}   G_Loss: {GRunning_loss/8:.3f}')\n",
        "      DRunning_loss = 0.0\n",
        "      GRunning_loss = 0.0\n",
        "\n",
        "with (open('G.pt', 'wb')) as f:\n",
        "  torch.save(G.state_dict(), f)\n",
        "\n",
        "with (open('D.pt', 'wb')) as f:\n",
        "  torch.save(D.state_dict(), f)\n",
        "\n",
        "print('Finished Training')\n"
      ]
    },
    {
      "cell_type": "code",
      "source": [
        "z = torch.randn(16,latent_dim)\n",
        "fake = G(z)\n",
        "\n",
        "print(fake.shape)\n",
        "\n",
        "\n",
        "fake_img = fake[0].detach().numpy()\n",
        "\n",
        "fake_img = fake_img.transpose(1,2,0)\n",
        "plt.imshow(fake_img)"
      ],
      "metadata": {
        "id": "Bk9DMxQBdi_E",
        "colab": {
          "base_uri": "https://localhost:8080/",
          "height": 468
        },
        "outputId": "bf453107-5293-4541-f662-9c2901001dbe"
      },
      "execution_count": null,
      "outputs": [
        {
          "output_type": "stream",
          "name": "stdout",
          "text": [
            "torch.Size([16, 1, 64, 64])\n"
          ]
        },
        {
          "output_type": "execute_result",
          "data": {
            "text/plain": [
              "<matplotlib.image.AxesImage at 0x7d02fa778b90>"
            ]
          },
          "metadata": {},
          "execution_count": 20
        },
        {
          "output_type": "display_data",
          "data": {
            "text/plain": [
              "<Figure size 640x480 with 1 Axes>"
            ],
            "image/png": "[encoded data removed]"
          },
          "metadata": {}
        }
      ]
    },
    {
      "cell_type": "code",
      "source": [],
      "metadata": {
        "id": "CJrLaj_gwpEj"
      },
      "execution_count": null,
      "outputs": []
    }
  ],
  "metadata": {
    "colab": {
      "provenance": [],
      "authorship_tag": "ABX9TyM/KPGaPmt9mcdFqCCs7DmE"
    },
    "kernelspec": {
      "display_name": "Python 3",
      "name": "python3"
    },
    "language_info": {
      "name": "python"
    }
  },
  "nbformat": 4,
  "nbformat_minor": 0
}